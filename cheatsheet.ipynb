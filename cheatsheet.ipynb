{
 "cells": [
  {
   "cell_type": "code",
   "execution_count": 26,
   "metadata": {},
   "outputs": [],
   "source": [
    "import random\n",
    "from sqlalchemy import and_, or_, not_, text \n",
    "from sqlalchemy.orm import sessionmaker\n",
    "from models import User, engine"
   ]
  },
  {
   "cell_type": "code",
   "execution_count": 2,
   "metadata": {},
   "outputs": [],
   "source": [
    "# Create session\n",
    "Session = sessionmaker(bind=engine)\n",
    "session = Session()"
   ]
  },
  {
   "cell_type": "markdown",
   "metadata": {},
   "source": [
    "### CRUD Operations"
   ]
  },
  {
   "cell_type": "code",
   "execution_count": 3,
   "metadata": {},
   "outputs": [],
   "source": [
    "user1 = User(name=\"Amit\", age=25)\n",
    "user2 = User(name=\"Mobin\", age=27)\n",
    "user3 = User(name=\"Santu\", age=28)\n",
    "user4 = User(name=\"Morgan\", age=40)"
   ]
  },
  {
   "cell_type": "code",
   "execution_count": null,
   "metadata": {},
   "outputs": [],
   "source": [
    "## CREATE \n",
    "session.add(user1)\n",
    "session.add_all([user2, user3, user4])\n",
    "session.commit()"
   ]
  },
  {
   "cell_type": "code",
   "execution_count": null,
   "metadata": {},
   "outputs": [],
   "source": [
    "## READ \n",
    "users = session.query(User).all()\n",
    "for user in users:\n",
    "    print(f\"ID : {user.id}, Name : {user.name}, Age : {user.age}\")"
   ]
  },
  {
   "cell_type": "code",
   "execution_count": null,
   "metadata": {},
   "outputs": [],
   "source": [
    "## UPDATE\n",
    "user = session.query(User).filter_by(name = \"Amit\").one_or_none()\n",
    "user.name = \"Farooqe\"\n",
    "print(f\"ID : {user.id}, Name : {user.name}, Age : {user.age}\")"
   ]
  },
  {
   "cell_type": "code",
   "execution_count": null,
   "metadata": {},
   "outputs": [],
   "source": [
    "## DELETE \n",
    "user = session.query(User).filter_by(id=4).one_or_none()\n",
    "session.delete(user)\n",
    "session.commit()"
   ]
  },
  {
   "cell_type": "markdown",
   "metadata": {},
   "source": [
    "### Data Manipulation"
   ]
  },
  {
   "cell_type": "code",
   "execution_count": null,
   "metadata": {},
   "outputs": [],
   "source": [
    "## Add some new data \n",
    "\n",
    "names = [\"Thor\", \"Hulk\", \"Goku\", \"Vegeta\", \"Morgoth\", \"Frodo\", \"Pippin\"]\n",
    "ages = [20, 21, 22, 23, 24, 25, 26, 26, 27, 28, 29, 30]\n",
    "\n",
    "for i in range(len(names)):\n",
    "    user = User(name=names[i], age=random.choice(ages))\n",
    "    session.add(user)\n",
    "session.commit()"
   ]
  },
  {
   "cell_type": "markdown",
   "metadata": {},
   "source": [
    "**Ordering data**"
   ]
  },
  {
   "cell_type": "code",
   "execution_count": 4,
   "metadata": {},
   "outputs": [
    {
     "name": "stdout",
     "output_type": "stream",
     "text": [
      "ID : 11, Name : Pippin, Age : 21\n",
      "ID : 7, Name : Goku, Age : 22\n",
      "ID : 10, Name : Frodo, Age : 22\n",
      "ID : 9, Name : Morgoth, Age : 24\n",
      "ID : 6, Name : Hulk, Age : 24\n",
      "ID : 5, Name : Thor, Age : 24\n",
      "ID : 1, Name : Farooqe, Age : 25\n",
      "ID : 8, Name : Vegeta, Age : 26\n",
      "ID : 2, Name : Mobin, Age : 27\n",
      "ID : 3, Name : Santu, Age : 28\n"
     ]
    }
   ],
   "source": [
    "## SELECT * FROM users ORDER by AGE;\n",
    "users = session.query(User).order_by(User.age).all()\n",
    "for user in users:\n",
    "    print(f\"ID : {user.id}, Name : {user.name}, Age : {user.age}\")"
   ]
  },
  {
   "cell_type": "markdown",
   "metadata": {},
   "source": [
    "**Filtering Data**\n",
    "- For general query statement with conditionals, use `filter()` or `where()` method.\n",
    "- In order to find with specific value, use `filter_by()` method. This doesn't allow conditionals.\n",
    "\n",
    "Normally inside the `filter()` and `where()` methods, the passed parameters are considered as **AND** operation by default. "
   ]
  },
  {
   "cell_type": "code",
   "execution_count": 5,
   "metadata": {},
   "outputs": [
    {
     "name": "stdout",
     "output_type": "stream",
     "text": [
      "Total users : 10\n",
      "Filtered users Using single conditionals: 4\n",
      "Filtered users Using multiple conditionals: 1\n",
      "Filtered user using specific values: 1\n",
      "Filtered users Using multiple conditionals: 1\n"
     ]
    }
   ],
   "source": [
    "users = session.query(User).all() \n",
    "print(f\"Total users : {len(users)}\")\n",
    "\n",
    "### SELECT * FROM users WHERE age>=25\n",
    "filtered_users = session.query(User).filter(User.age >= 25).all() \n",
    "print(f\"Filtered users Using single conditionals: {len(filtered_users)}\")\n",
    "\n",
    "### SELECT * FROM users WHERE age>=24 AND name=\"Thor\"\n",
    "filtered_users2 = session.query(User).filter(User.age>=24, User.name==\"Thor\").all()\n",
    "print(f\"Filtered users Using multiple conditionals: {len(filtered_users2)}\")\n",
    "\n",
    "filtered_users3 = session.query(User).filter_by(age=24, name=\"Thor\").all()\n",
    "print(f\"Filtered user using specific values: {len(filtered_users3)}\")\n",
    "\n",
    "filtered_users4 = session.query(User).where(User.age>=24, User.name==\"Thor\").all()\n",
    "print(f\"Filtered users Using multiple conditionals: {len(filtered_users4)}\")"
   ]
  },
  {
   "cell_type": "markdown",
   "metadata": {},
   "source": [
    "**AND operation:**\n",
    "- We can use `and_` function.\n",
    "- We can also use the **Bitwise** `&` operator. "
   ]
  },
  {
   "cell_type": "code",
   "execution_count": 6,
   "metadata": {},
   "outputs": [
    {
     "name": "stdout",
     "output_type": "stream",
     "text": [
      "Filtered users Using multiple conditionals (AND Operation): 1\n",
      "Filtered users Using multiple conditionals (AND Operation): 1\n"
     ]
    }
   ],
   "source": [
    "### SELECT * FROM users WHERE age>=23 OR name=\"Thor\"\n",
    "\n",
    "filtered_users5 = session.query(User).where(and_(User.age>=23, User.name==\"Thor\")).all()\n",
    "print(f\"Filtered users Using multiple conditionals (AND Operation): {len(filtered_users5)}\")\n",
    "\n",
    "filtered_users6 = session.query(User).where((User.age>=23) & (User.name==\"Thor\")).all()\n",
    "print(f\"Filtered users Using multiple conditionals (AND Operation): {len(filtered_users6)}\")\n"
   ]
  },
  {
   "cell_type": "markdown",
   "metadata": {},
   "source": [
    "**OR operation:** \n",
    "- the passed parameters needs to be inside the `or_` function.\n",
    "- We can use **bitwise** `|` operator."
   ]
  },
  {
   "cell_type": "code",
   "execution_count": 7,
   "metadata": {},
   "outputs": [
    {
     "name": "stdout",
     "output_type": "stream",
     "text": [
      "Filtered users Using multiple conditionals (OR Operation): 7\n",
      "Filtered users Using multiple conditionals (OR Operation): 7\n"
     ]
    }
   ],
   "source": [
    "### SELECT * FROM users WHERE age>=23 OR name=\"Thor\"\n",
    "\n",
    "filtered_users3_1 = session.query(User).where(or_(User.age>=23, User.name==\"Thor\")).all()\n",
    "print(f\"Filtered users Using multiple conditionals (OR Operation): {len(filtered_users3_1)}\")\n",
    "\n",
    "filtered_users3_2 = session.query(User).where((User.age>=23) | (User.name==\"Thor\")).all()\n",
    "print(f\"Filtered users Using multiple conditionals (OR Operation): {len(filtered_users3_2)}\")"
   ]
  },
  {
   "cell_type": "markdown",
   "metadata": {},
   "source": [
    "**NOT operation:**\n",
    "- the passed parameters needs to be inside the `not_` function.\n",
    "- We can use `!=` operator."
   ]
  },
  {
   "cell_type": "code",
   "execution_count": 8,
   "metadata": {},
   "outputs": [
    {
     "name": "stdout",
     "output_type": "stream",
     "text": [
      "Filtered users Using multiple conditionals (NOT Operation): 9\n",
      "Filtered users Using multiple conditionals (NOT Operation): 9\n"
     ]
    }
   ],
   "source": [
    "### SELECT * FROM users WHERE name!=\"Thor\"\n",
    "\n",
    "filtered_users7 = session.query(User).where(not_(User.name==\"Thor\")).all()\n",
    "print(f\"Filtered users Using multiple conditionals (NOT Operation): {len(filtered_users7)}\")\n",
    "\n",
    "filtered_users8 = session.query(User).where(User.name!=\"Thor\").all()\n",
    "print(f\"Filtered users Using multiple conditionals (NOT Operation): {len(filtered_users8)}\")"
   ]
  },
  {
   "cell_type": "markdown",
   "metadata": {},
   "source": [
    "**Returning List and Scalars**\n",
    "\n",
    "- all() : returns list of objects of the given query.\n",
    "- first() : returns the first object of the list.\n",
    "- one(): This command fully fetches all rows, and if there is not exactly one object identity or composite row present in the result, it raises an error.\n",
    "- scalar(): It invokes the one() method, and upon success returns the first column."
   ]
  },
  {
   "cell_type": "code",
   "execution_count": 17,
   "metadata": {},
   "outputs": [
    {
     "name": "stdout",
     "output_type": "stream",
     "text": [
      "Returning List of length: 10\n",
      "Returning the first user only: <models.User object at 0x729eecfb3d30>\n"
     ]
    }
   ],
   "source": [
    "user_list = session.query(User).where(User.age>=20).all()\n",
    "print(f\"Returning List of length: {len(user_list)}\")\n",
    "\n",
    "user = session.query(User).where(User.age>=20).first()\n",
    "print(f\"Returning the first user only: {user}\")"
   ]
  },
  {
   "cell_type": "code",
   "execution_count": 25,
   "metadata": {},
   "outputs": [
    {
     "name": "stdout",
     "output_type": "stream",
     "text": [
      "Error: Multiple rows were found when exactly one was required.\n",
      "Returning the One user only: <models.User object at 0x729eecfb3d30>\n",
      "Returning the scalar user only: <models.User object at 0x729eecfb3d30>\n"
     ]
    }
   ],
   "source": [
    "try: \n",
    "    user1 = session.query(User).where(User.age>=20).one()\n",
    "    print(f\"Returning the One user only: {user1}\")\n",
    "except Exception as e:\n",
    "    print(f\"Error: {e}.\")\n",
    "\n",
    "user1 = session.query(User).where(User.name=='Mobin').one()\n",
    "print(f\"Returning the One user only: {user1}\")\n",
    "\n",
    "user1 = session.query(User).where(User.name=='Mobin').scalar()\n",
    "print(f\"Returning the scalar user only: {user1}\")"
   ]
  },
  {
   "cell_type": "markdown",
   "metadata": {},
   "source": [
    "### Textual SQL"
   ]
  },
  {
   "cell_type": "markdown",
   "metadata": {},
   "source": [
    "Using with `filter()` function"
   ]
  },
  {
   "cell_type": "code",
   "execution_count": 43,
   "metadata": {},
   "outputs": [
    {
     "name": "stdout",
     "output_type": "stream",
     "text": [
      "Returning user list of length: 10\n"
     ]
    }
   ],
   "source": [
    "users = session.query(User).filter(text(\"age>=20\")).all()\n",
    "print(f\"Returning user list of length: {len(users)}\")"
   ]
  },
  {
   "cell_type": "markdown",
   "metadata": {},
   "source": [
    "Using with `from_statement()` function."
   ]
  },
  {
   "cell_type": "code",
   "execution_count": 44,
   "metadata": {},
   "outputs": [
    {
     "name": "stdout",
     "output_type": "stream",
     "text": [
      "Returning user list of length: 10\n"
     ]
    }
   ],
   "source": [
    "users = session.query(User).from_statement(text(\"SELECT * FROM users where age>=20\")).all()\n",
    "print(f\"Returning user list of length: {len(users)}\")"
   ]
  },
  {
   "cell_type": "code",
   "execution_count": null,
   "metadata": {},
   "outputs": [],
   "source": []
  }
 ],
 "metadata": {
  "kernelspec": {
   "display_name": "fastpg",
   "language": "python",
   "name": "python3"
  },
  "language_info": {
   "codemirror_mode": {
    "name": "ipython",
    "version": 3
   },
   "file_extension": ".py",
   "mimetype": "text/x-python",
   "name": "python",
   "nbconvert_exporter": "python",
   "pygments_lexer": "ipython3",
   "version": "3.10.0"
  }
 },
 "nbformat": 4,
 "nbformat_minor": 2
}
