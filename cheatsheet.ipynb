{
 "cells": [
  {
   "cell_type": "code",
   "execution_count": 13,
   "metadata": {},
   "outputs": [],
   "source": [
    "import random\n",
    "from sqlalchemy.orm import sessionmaker\n",
    "from models import User, engine"
   ]
  },
  {
   "cell_type": "code",
   "execution_count": 2,
   "metadata": {},
   "outputs": [],
   "source": [
    "# Create session\n",
    "Session = sessionmaker(bind=engine)\n",
    "session = Session()"
   ]
  },
  {
   "cell_type": "markdown",
   "metadata": {},
   "source": [
    "### CRUD Operations"
   ]
  },
  {
   "cell_type": "code",
   "execution_count": 3,
   "metadata": {},
   "outputs": [],
   "source": [
    "user1 = User(name=\"Amit\", age=25)\n",
    "user2 = User(name=\"Mobin\", age=27)\n",
    "user3 = User(name=\"Santu\", age=28)\n",
    "user4 = User(name=\"Morgan\", age=40)"
   ]
  },
  {
   "cell_type": "code",
   "execution_count": 4,
   "metadata": {},
   "outputs": [],
   "source": [
    "## CREATE \n",
    "session.add(user1)\n",
    "session.add_all([user2, user3, user4])\n",
    "session.commit()"
   ]
  },
  {
   "cell_type": "code",
   "execution_count": 6,
   "metadata": {},
   "outputs": [
    {
     "name": "stdout",
     "output_type": "stream",
     "text": [
      "ID : 1, Name : Amit, Age : 25\n",
      "ID : 2, Name : Mobin, Age : 27\n",
      "ID : 3, Name : Santu, Age : 28\n",
      "ID : 4, Name : Morgan, Age : 40\n"
     ]
    }
   ],
   "source": [
    "## READ \n",
    "users = session.query(User).all()\n",
    "for user in users:\n",
    "    print(f\"ID : {user.id}, Name : {user.name}, Age : {user.age}\")"
   ]
  },
  {
   "cell_type": "code",
   "execution_count": 9,
   "metadata": {},
   "outputs": [
    {
     "name": "stdout",
     "output_type": "stream",
     "text": [
      "ID : 1, Name : Farooqe, Age : 25\n"
     ]
    }
   ],
   "source": [
    "## UPDATE\n",
    "user = session.query(User).filter_by(name = \"Amit\").one_or_none()\n",
    "user.name = \"Farooqe\"\n",
    "print(f\"ID : {user.id}, Name : {user.name}, Age : {user.age}\")"
   ]
  },
  {
   "cell_type": "code",
   "execution_count": 11,
   "metadata": {},
   "outputs": [],
   "source": [
    "## DELETE \n",
    "user = session.query(User).filter_by(id=4).one_or_none()\n",
    "session.delete(user)\n",
    "session.commit()"
   ]
  },
  {
   "cell_type": "markdown",
   "metadata": {},
   "source": [
    "### Data Manipulation"
   ]
  },
  {
   "cell_type": "code",
   "execution_count": 14,
   "metadata": {},
   "outputs": [],
   "source": [
    "## Add some new data \n",
    "\n",
    "names = [\"Thor\", \"Hulk\", \"Goku\", \"Vegeta\", \"Morgoth\", \"Frodo\", \"Pippin\"]\n",
    "ages = [20, 21, 22, 23, 24, 25, 26, 26, 27, 28, 29, 30]\n",
    "\n",
    "for i in range(len(names)):\n",
    "    user = User(name=names[i], age=random.choice(ages))\n",
    "    session.add(user)\n",
    "session.commit()"
   ]
  },
  {
   "cell_type": "markdown",
   "metadata": {},
   "source": [
    "### Ordering data"
   ]
  },
  {
   "cell_type": "code",
   "execution_count": 19,
   "metadata": {},
   "outputs": [
    {
     "name": "stdout",
     "output_type": "stream",
     "text": [
      "ID : 6, Name : Goku, Age : 20\n",
      "ID : 8, Name : Morgoth, Age : 23\n",
      "ID : 9, Name : Frodo, Age : 23\n",
      "ID : 10, Name : Pippin, Age : 24\n",
      "ID : 1, Name : Farooqe, Age : 25\n",
      "ID : 4, Name : Thor, Age : 25\n",
      "ID : 5, Name : Hulk, Age : 26\n",
      "ID : 2, Name : Mobin, Age : 27\n",
      "ID : 3, Name : Santu, Age : 28\n",
      "ID : 7, Name : Vegeta, Age : 28\n"
     ]
    }
   ],
   "source": [
    "users = session.query(User).order_by(User.age).all()\n",
    "for user in users:\n",
    "    print(f\"ID : {user.id}, Name : {user.name}, Age : {user.age}\")"
   ]
  },
  {
   "cell_type": "markdown",
   "metadata": {},
   "source": [
    "### Filtering Data"
   ]
  },
  {
   "cell_type": "code",
   "execution_count": 21,
   "metadata": {},
   "outputs": [
    {
     "name": "stdout",
     "output_type": "stream",
     "text": [
      "Total users : 10\n",
      "Filtered users : 6\n"
     ]
    }
   ],
   "source": [
    "users = session.query(User).all() \n",
    "filtered_users = session.query(User).filter(User.age >= 25).all() \n",
    "\n",
    "print(f\"Total users : {len(users)}\")\n",
    "print(f\"Filtered users : {len(filtered_users)}\")"
   ]
  }
 ],
 "metadata": {
  "kernelspec": {
   "display_name": "fastpg",
   "language": "python",
   "name": "python3"
  },
  "language_info": {
   "codemirror_mode": {
    "name": "ipython",
    "version": 3
   },
   "file_extension": ".py",
   "mimetype": "text/x-python",
   "name": "python",
   "nbconvert_exporter": "python",
   "pygments_lexer": "ipython3",
   "version": "3.10.0"
  }
 },
 "nbformat": 4,
 "nbformat_minor": 2
}
